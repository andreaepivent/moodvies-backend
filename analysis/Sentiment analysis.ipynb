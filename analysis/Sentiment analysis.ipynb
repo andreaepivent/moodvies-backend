{
 "cells": [
  {
   "cell_type": "code",
   "execution_count": 2,
   "id": "393ca802-2c5c-4aaf-9872-aa4911b2cb05",
   "metadata": {},
   "outputs": [],
   "source": [
    "# Import des packages\n",
    "from transformers import AutoTokenizer, AutoModelForSequenceClassification\n",
    "from transformers import pipeline"
   ]
  },
  {
   "cell_type": "code",
   "execution_count": 3,
   "id": "696c822f-dca5-41f5-8bde-520d13cc088e",
   "metadata": {},
   "outputs": [
    {
     "data": {
      "application/vnd.jupyter.widget-view+json": {
       "model_id": "17642c7f54c74dbe9ab988c6180d8409",
       "version_major": 2,
       "version_minor": 0
      },
      "text/plain": [
       "pytorch_model.bin:   0%|          | 0.00/433M [00:00<?, ?B/s]"
      ]
     },
     "metadata": {},
     "output_type": "display_data"
    }
   ],
   "source": [
    "# Charger le tokenizer et le modèle \"goemotions\"\n",
    "tokenizer = AutoTokenizer.from_pretrained(\"monologg/bert-base-cased-goemotions-original\")\n",
    "model = AutoModelForSequenceClassification.from_pretrained(\"monologg/bert-base-cased-goemotions-original\")"
   ]
  },
  {
   "cell_type": "code",
   "execution_count": 4,
   "id": "d5642e3c-7c84-4cd3-8636-9a12d477ecc6",
   "metadata": {},
   "outputs": [
    {
     "name": "stderr",
     "output_type": "stream",
     "text": [
      "/opt/anaconda3/envs/myenv/lib/python3.9/site-packages/transformers/pipelines/text_classification.py:105: UserWarning: `return_all_scores` is now deprecated,  if want a similar functionality use `top_k=None` instead of `return_all_scores=True` or `top_k=1` instead of `return_all_scores=False`.\n",
      "  warnings.warn(\n"
     ]
    }
   ],
   "source": [
    "# Créer un pipeline de classification\n",
    "classifier = pipeline(\"text-classification\", model=model, tokenizer=tokenizer, return_all_scores=True)"
   ]
  },
  {
   "cell_type": "code",
   "execution_count": 18,
   "id": "22e1d84f-05c6-4277-8108-49243e812428",
   "metadata": {},
   "outputs": [],
   "source": [
    "def get_emotion_from_synopsis(synopsis):\n",
    "    results = classifier(synopsis)\n",
    "    \n",
    "    # Trouver l'émotion avec le score le plus élevé\n",
    "    emotion_scores = sorted(results[0], key=lambda x: x['score'], reverse=True)\n",
    "    primary_emotion = emotion_scores[0]['label']\n",
    "    \n",
    "    return primary_emotion, emotion_scores\n"
   ]
  },
  {
   "cell_type": "code",
   "execution_count": 21,
   "id": "f2bd3d1e-d509-476a-8283-0de2d3cf7154",
   "metadata": {},
   "outputs": [
    {
     "name": "stdout",
     "output_type": "stream",
     "text": [
      "Le mood du film est : neutral\n",
      "Scores détaillés : [{'label': 'neutral', 'score': 0.9999853372573853}, {'label': 'curiosity', 'score': 1.9601739040808752e-06}, {'label': 'optimism', 'score': 1.7706045127852121e-06}, {'label': 'annoyance', 'score': 1.1006458180418122e-06}, {'label': 'admiration', 'score': 9.232462616637349e-07}, {'label': 'confusion', 'score': 8.224939165302203e-07}, {'label': 'anger', 'score': 8.14101781543286e-07}, {'label': 'disappointment', 'score': 6.82003474139492e-07}, {'label': 'desire', 'score': 6.577937483598362e-07}, {'label': 'realization', 'score': 6.467784601227322e-07}, {'label': 'amusement', 'score': 6.40295070297725e-07}, {'label': 'caring', 'score': 5.741188715546741e-07}, {'label': 'approval', 'score': 5.01047225043294e-07}, {'label': 'sadness', 'score': 4.393152721604565e-07}, {'label': 'disapproval', 'score': 3.3618167094573437e-07}, {'label': 'disgust', 'score': 3.0287020535979536e-07}, {'label': 'fear', 'score': 2.7776926003753033e-07}, {'label': 'excitement', 'score': 2.735223461058922e-07}, {'label': 'embarrassment', 'score': 2.6990599621967704e-07}, {'label': 'remorse', 'score': 2.5370803768964834e-07}, {'label': 'surprise', 'score': 2.45095009177021e-07}, {'label': 'love', 'score': 2.430494703276054e-07}, {'label': 'grief', 'score': 2.190832475434945e-07}, {'label': 'pride', 'score': 1.848257653591645e-07}, {'label': 'gratitude', 'score': 1.5848233658743993e-07}, {'label': 'joy', 'score': 1.581459656563311e-07}, {'label': 'nervousness', 'score': 1.3023006317780528e-07}, {'label': 'relief', 'score': 9.175980864029043e-08}]\n"
     ]
    }
   ],
   "source": [
    "# Exemple de synopsis\n",
    "synopsis = \"Cobb, a skilled thief who commits corporate espionage by infiltrating the subconscious of his targets is offered a chance to regain his old life as payment for a task considered to be impossible: 'inception', the implantation of another person's idea into a target's subconscious.\"\n",
    "\n",
    "print(f\"Le mood du film est : {emotion}\")\n",
    "print(f\"Scores détaillés : {scores}\")"
   ]
  },
  {
   "cell_type": "code",
   "execution_count": 24,
   "id": "d2314125-2261-4a8d-beec-dfb549a8b196",
   "metadata": {},
   "outputs": [
    {
     "data": {
      "text/plain": [
       "[{'label': 'neutral', 'score': 0.9999853372573853},\n",
       " {'label': 'curiosity', 'score': 1.9601739040808752e-06},\n",
       " {'label': 'optimism', 'score': 1.7706045127852121e-06},\n",
       " {'label': 'annoyance', 'score': 1.1006458180418122e-06},\n",
       " {'label': 'admiration', 'score': 9.232462616637349e-07},\n",
       " {'label': 'confusion', 'score': 8.224939165302203e-07},\n",
       " {'label': 'anger', 'score': 8.14101781543286e-07},\n",
       " {'label': 'disappointment', 'score': 6.82003474139492e-07},\n",
       " {'label': 'desire', 'score': 6.577937483598362e-07},\n",
       " {'label': 'realization', 'score': 6.467784601227322e-07},\n",
       " {'label': 'amusement', 'score': 6.40295070297725e-07},\n",
       " {'label': 'caring', 'score': 5.741188715546741e-07},\n",
       " {'label': 'approval', 'score': 5.01047225043294e-07},\n",
       " {'label': 'sadness', 'score': 4.393152721604565e-07},\n",
       " {'label': 'disapproval', 'score': 3.3618167094573437e-07},\n",
       " {'label': 'disgust', 'score': 3.0287020535979536e-07},\n",
       " {'label': 'fear', 'score': 2.7776926003753033e-07},\n",
       " {'label': 'excitement', 'score': 2.735223461058922e-07},\n",
       " {'label': 'embarrassment', 'score': 2.6990599621967704e-07},\n",
       " {'label': 'remorse', 'score': 2.5370803768964834e-07},\n",
       " {'label': 'surprise', 'score': 2.45095009177021e-07},\n",
       " {'label': 'love', 'score': 2.430494703276054e-07},\n",
       " {'label': 'grief', 'score': 2.190832475434945e-07},\n",
       " {'label': 'pride', 'score': 1.848257653591645e-07},\n",
       " {'label': 'gratitude', 'score': 1.5848233658743993e-07},\n",
       " {'label': 'joy', 'score': 1.581459656563311e-07},\n",
       " {'label': 'nervousness', 'score': 1.3023006317780528e-07},\n",
       " {'label': 'relief', 'score': 9.175980864029043e-08}]"
      ]
     },
     "execution_count": 24,
     "metadata": {},
     "output_type": "execute_result"
    }
   ],
   "source": [
    "scores"
   ]
  }
 ],
 "metadata": {
  "kernelspec": {
   "display_name": "Python 3 (ipykernel)",
   "language": "python",
   "name": "python3"
  },
  "language_info": {
   "codemirror_mode": {
    "name": "ipython",
    "version": 3
   },
   "file_extension": ".py",
   "mimetype": "text/x-python",
   "name": "python",
   "nbconvert_exporter": "python",
   "pygments_lexer": "ipython3",
   "version": "3.9.19"
  }
 },
 "nbformat": 4,
 "nbformat_minor": 5
}
