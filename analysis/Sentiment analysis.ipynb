{
 "cells": [
  {
   "cell_type": "code",
   "execution_count": 2,
   "id": "393ca802-2c5c-4aaf-9872-aa4911b2cb05",
   "metadata": {},
   "outputs": [],
   "source": [
    "# Import des packages\n",
    "from transformers import AutoTokenizer, AutoModelForSequenceClassification\n",
    "from transformers import pipeline"
   ]
  },
  {
   "cell_type": "code",
   "execution_count": 3,
   "id": "696c822f-dca5-41f5-8bde-520d13cc088e",
   "metadata": {},
   "outputs": [
    {
     "data": {
      "application/vnd.jupyter.widget-view+json": {
       "model_id": "17642c7f54c74dbe9ab988c6180d8409",
       "version_major": 2,
       "version_minor": 0
      },
      "text/plain": [
       "pytorch_model.bin:   0%|          | 0.00/433M [00:00<?, ?B/s]"
      ]
     },
     "metadata": {},
     "output_type": "display_data"
    }
   ],
   "source": [
    "# Charger le tokenizer et le modèle \"goemotions\"\n",
    "tokenizer = AutoTokenizer.from_pretrained(\"monologg/bert-base-cased-goemotions-original\")\n",
    "model = AutoModelForSequenceClassification.from_pretrained(\"monologg/bert-base-cased-goemotions-original\")"
   ]
  },
  {
   "cell_type": "code",
   "execution_count": 4,
   "id": "d5642e3c-7c84-4cd3-8636-9a12d477ecc6",
   "metadata": {},
   "outputs": [
    {
     "name": "stderr",
     "output_type": "stream",
     "text": [
      "/opt/anaconda3/envs/myenv/lib/python3.9/site-packages/transformers/pipelines/text_classification.py:105: UserWarning: `return_all_scores` is now deprecated,  if want a similar functionality use `top_k=None` instead of `return_all_scores=True` or `top_k=1` instead of `return_all_scores=False`.\n",
      "  warnings.warn(\n"
     ]
    }
   ],
   "source": [
    "# Créer un pipeline de classification\n",
    "classifier = pipeline(\"text-classification\", model=model, tokenizer=tokenizer, return_all_scores=True)"
   ]
  },
  {
   "cell_type": "code",
   "execution_count": 5,
   "id": "22e1d84f-05c6-4277-8108-49243e812428",
   "metadata": {},
   "outputs": [],
   "source": [
    "def get_emotion_from_synopsis(synopsis):\n",
    "    results = classifier(synopsis)\n",
    "    \n",
    "    # Trouver l'émotion avec le score le plus élevé\n",
    "    emotion_scores = {result['label']: result['score'] for result in results[0]}\n",
    "    primary_emotion = max(emotion_scores, key=emotion_scores.get)\n",
    "    \n",
    "    return primary_emotion, emotion_scores\n"
   ]
  },
  {
   "cell_type": "code",
   "execution_count": 12,
   "id": "f2bd3d1e-d509-476a-8283-0de2d3cf7154",
   "metadata": {},
   "outputs": [
    {
     "name": "stdout",
     "output_type": "stream",
     "text": [
      "Le mood du film est : anger\n",
      "Scores détaillés : {'admiration': 0.010549310594797134, 'amusement': 0.02673439309000969, 'anger': 0.3301812708377838, 'annoyance': 0.02848065458238125, 'approval': 0.0005141525180079043, 'caring': 0.0013207829324528575, 'confusion': 0.0027685617096722126, 'curiosity': 0.0007463683723472059, 'desire': 0.0005348545964807272, 'disappointment': 0.05843421444296837, 'disapproval': 0.005263849627226591, 'disgust': 0.023942511528730392, 'embarrassment': 0.014437285251915455, 'excitement': 0.0006022700108587742, 'fear': 0.012927461415529251, 'gratitude': 9.311462781624869e-05, 'grief': 0.03784071281552315, 'joy': 0.00101677724160254, 'love': 0.00024508117348887026, 'nervousness': 0.0012389911571517587, 'optimism': 0.005306587088853121, 'pride': 0.005904031917452812, 'realization': 0.18224699795246124, 'relief': 0.0016787026543170214, 'remorse': 0.024193309247493744, 'sadness': 0.037462908774614334, 'surprise': 0.003938187379390001, 'neutral': 0.18139666318893433}\n"
     ]
    }
   ],
   "source": [
    "# Exemple de synopsis\n",
    "synopsis = \"In the year 180, the death of emperor Marcus Aurelius throws the Roman Empire into chaos. Maximus is one of the Roman army's most capable and trusted generals and a key advisor to the emperor. As Marcus' devious son Commodus ascends to the throne, Maximus is set to be executed. He escapes, but is captured by slave traders. Renamed Spaniard and forced to become a gladiator, Maximus must battle to the death with other men for the amusement of paying audiences.\"\n",
    "\n",
    "emotion, scores = get_emotion_from_synopsis(synopsis)\n",
    "print(f\"Le mood du film est : {emotion}\")\n",
    "print(f\"Scores détaillés : {scores}\")"
   ]
  }
 ],
 "metadata": {
  "kernelspec": {
   "display_name": "Python 3 (ipykernel)",
   "language": "python",
   "name": "python3"
  },
  "language_info": {
   "codemirror_mode": {
    "name": "ipython",
    "version": 3
   },
   "file_extension": ".py",
   "mimetype": "text/x-python",
   "name": "python",
   "nbconvert_exporter": "python",
   "pygments_lexer": "ipython3",
   "version": "3.9.19"
  }
 },
 "nbformat": 4,
 "nbformat_minor": 5
}
